{
 "cells": [
  {
   "cell_type": "code",
   "execution_count": 1,
   "metadata": {},
   "outputs": [],
   "source": [
    "import pandas as pd\n",
    "import datetime"
   ]
  },
  {
   "cell_type": "markdown",
   "metadata": {},
   "source": [
    "Based on the attached data, answer the following two questions. Explain your answer. \n",
    "1. Customers who made their first order in which calendar week, generated the most revenue in their 3rd week? Your answer should be a week number. Week count starts with 1. \n",
    "2. In which month, did we get the customers with highest client retention in their 3rd calendar month? Your answer should be a month number. Month count starts with 1."
   ]
  },
  {
   "cell_type": "code",
   "execution_count": 2,
   "metadata": {},
   "outputs": [],
   "source": [
    "df=pd.read_csv('test-data.csv')"
   ]
  },
  {
   "cell_type": "code",
   "execution_count": 3,
   "metadata": {},
   "outputs": [
    {
     "data": {
      "text/html": [
       "<div>\n",
       "<style scoped>\n",
       "    .dataframe tbody tr th:only-of-type {\n",
       "        vertical-align: middle;\n",
       "    }\n",
       "\n",
       "    .dataframe tbody tr th {\n",
       "        vertical-align: top;\n",
       "    }\n",
       "\n",
       "    .dataframe thead th {\n",
       "        text-align: right;\n",
       "    }\n",
       "</style>\n",
       "<table border=\"1\" class=\"dataframe\">\n",
       "  <thead>\n",
       "    <tr style=\"text-align: right;\">\n",
       "      <th></th>\n",
       "      <th>order_id</th>\n",
       "      <th>created</th>\n",
       "      <th>user_id</th>\n",
       "      <th>payment</th>\n",
       "    </tr>\n",
       "  </thead>\n",
       "  <tbody>\n",
       "    <tr>\n",
       "      <th>0</th>\n",
       "      <td>3178039</td>\n",
       "      <td>2018-03-09 19:12:13</td>\n",
       "      <td>1066</td>\n",
       "      <td>1090</td>\n",
       "    </tr>\n",
       "    <tr>\n",
       "      <th>1</th>\n",
       "      <td>2940729</td>\n",
       "      <td>2018-02-02 13:56:01</td>\n",
       "      <td>4821</td>\n",
       "      <td>349</td>\n",
       "    </tr>\n",
       "    <tr>\n",
       "      <th>2</th>\n",
       "      <td>4260454</td>\n",
       "      <td>2018-08-14 13:32:25</td>\n",
       "      <td>4831</td>\n",
       "      <td>673</td>\n",
       "    </tr>\n",
       "    <tr>\n",
       "      <th>3</th>\n",
       "      <td>3468644</td>\n",
       "      <td>2018-04-24 14:24:58</td>\n",
       "      <td>9563</td>\n",
       "      <td>893</td>\n",
       "    </tr>\n",
       "    <tr>\n",
       "      <th>4</th>\n",
       "      <td>2842424</td>\n",
       "      <td>2018-01-15 15:44:33</td>\n",
       "      <td>12189</td>\n",
       "      <td>480</td>\n",
       "    </tr>\n",
       "  </tbody>\n",
       "</table>\n",
       "</div>"
      ],
      "text/plain": [
       "   order_id              created  user_id  payment\n",
       "0   3178039  2018-03-09 19:12:13     1066     1090\n",
       "1   2940729  2018-02-02 13:56:01     4821      349\n",
       "2   4260454  2018-08-14 13:32:25     4831      673\n",
       "3   3468644  2018-04-24 14:24:58     9563      893\n",
       "4   2842424  2018-01-15 15:44:33    12189      480"
      ]
     },
     "execution_count": 3,
     "metadata": {},
     "output_type": "execute_result"
    }
   ],
   "source": [
    "df.head()"
   ]
  },
  {
   "cell_type": "markdown",
   "metadata": {},
   "source": [
    "Сколько записей?"
   ]
  },
  {
   "cell_type": "code",
   "execution_count": 4,
   "metadata": {},
   "outputs": [
    {
     "data": {
      "text/plain": [
       "(59998, 4)"
      ]
     },
     "execution_count": 4,
     "metadata": {},
     "output_type": "execute_result"
    }
   ],
   "source": [
    "df.shape"
   ]
  },
  {
   "cell_type": "markdown",
   "metadata": {},
   "source": [
    "Сколько пользователей?"
   ]
  },
  {
   "cell_type": "code",
   "execution_count": 5,
   "metadata": {},
   "outputs": [
    {
     "data": {
      "text/plain": [
       "13377"
      ]
     },
     "execution_count": 5,
     "metadata": {},
     "output_type": "execute_result"
    }
   ],
   "source": [
    "df.user_id.nunique()"
   ]
  },
  {
   "cell_type": "markdown",
   "metadata": {},
   "source": [
    "# Задание 1"
   ]
  },
  {
   "cell_type": "code",
   "execution_count": 6,
   "metadata": {},
   "outputs": [],
   "source": [
    "#преобразовываем строку в дату из datetime.Теперь можно использовать методы Datetime для работы с датами\n",
    "df['order_day']=pd.to_datetime(df['created'])"
   ]
  },
  {
   "cell_type": "code",
   "execution_count": 7,
   "metadata": {},
   "outputs": [],
   "source": [
    "df['order_week']=df['order_day'].dt.week"
   ]
  },
  {
   "cell_type": "code",
   "execution_count": 8,
   "metadata": {},
   "outputs": [],
   "source": [
    "#оставляем только дату заказа (убираем время)\n",
    "df['order_day']=df['order_day'].dt.date"
   ]
  },
  {
   "cell_type": "code",
   "execution_count": 9,
   "metadata": {},
   "outputs": [
    {
     "data": {
      "text/html": [
       "<div>\n",
       "<style scoped>\n",
       "    .dataframe tbody tr th:only-of-type {\n",
       "        vertical-align: middle;\n",
       "    }\n",
       "\n",
       "    .dataframe tbody tr th {\n",
       "        vertical-align: top;\n",
       "    }\n",
       "\n",
       "    .dataframe thead th {\n",
       "        text-align: right;\n",
       "    }\n",
       "</style>\n",
       "<table border=\"1\" class=\"dataframe\">\n",
       "  <thead>\n",
       "    <tr style=\"text-align: right;\">\n",
       "      <th></th>\n",
       "      <th>user_id</th>\n",
       "      <th>first_order_week</th>\n",
       "    </tr>\n",
       "  </thead>\n",
       "  <tbody>\n",
       "    <tr>\n",
       "      <th>0</th>\n",
       "      <td>1066</td>\n",
       "      <td>10</td>\n",
       "    </tr>\n",
       "    <tr>\n",
       "      <th>1</th>\n",
       "      <td>4821</td>\n",
       "      <td>5</td>\n",
       "    </tr>\n",
       "    <tr>\n",
       "      <th>2</th>\n",
       "      <td>4831</td>\n",
       "      <td>33</td>\n",
       "    </tr>\n",
       "    <tr>\n",
       "      <th>3</th>\n",
       "      <td>9563</td>\n",
       "      <td>17</td>\n",
       "    </tr>\n",
       "    <tr>\n",
       "      <th>4</th>\n",
       "      <td>12189</td>\n",
       "      <td>3</td>\n",
       "    </tr>\n",
       "  </tbody>\n",
       "</table>\n",
       "</div>"
      ],
      "text/plain": [
       "   user_id  first_order_week\n",
       "0     1066                10\n",
       "1     4821                 5\n",
       "2     4831                33\n",
       "3     9563                17\n",
       "4    12189                 3"
      ]
     },
     "execution_count": 9,
     "metadata": {},
     "output_type": "execute_result"
    }
   ],
   "source": [
    "#создаем таблицу  c данными по пользователю\n",
    "df_users=pd.DataFrame(df.groupby('user_id').agg('order_week').min()).rename(columns={'order_week':'first_order_week'}) \\\n",
    "                    .reset_index()\n",
    "df_users.head()"
   ]
  },
  {
   "cell_type": "code",
   "execution_count": 10,
   "metadata": {},
   "outputs": [],
   "source": [
    "#добавляем в основную таблицу данные по тому, в какой номер недели была совершена первая покупка\n",
    "df=df.merge(df_users, left_on='user_id', right_on='user_id', how='outer')"
   ]
  },
  {
   "cell_type": "code",
   "execution_count": 11,
   "metadata": {},
   "outputs": [],
   "source": [
    "#добавляем в основную таблицу данные по тому, в какую неделю после первой была покупка\n",
    "df['week_number_after_first_week']=df['order_week']-df['first_order_week']"
   ]
  },
  {
   "cell_type": "code",
   "execution_count": 12,
   "metadata": {},
   "outputs": [],
   "source": [
    "#оставляем только покупки на 3 неделе после первой покупки и сохраняем в отдельный df\n",
    "res_df=df.query('week_number_after_first_week==3').head(100)"
   ]
  },
  {
   "cell_type": "code",
   "execution_count": 13,
   "metadata": {},
   "outputs": [
    {
     "data": {
      "text/html": [
       "<div>\n",
       "<style scoped>\n",
       "    .dataframe tbody tr th:only-of-type {\n",
       "        vertical-align: middle;\n",
       "    }\n",
       "\n",
       "    .dataframe tbody tr th {\n",
       "        vertical-align: top;\n",
       "    }\n",
       "\n",
       "    .dataframe thead th {\n",
       "        text-align: right;\n",
       "    }\n",
       "</style>\n",
       "<table border=\"1\" class=\"dataframe\">\n",
       "  <thead>\n",
       "    <tr style=\"text-align: right;\">\n",
       "      <th></th>\n",
       "      <th>order_id</th>\n",
       "      <th>created</th>\n",
       "      <th>user_id</th>\n",
       "      <th>payment</th>\n",
       "      <th>order_day</th>\n",
       "      <th>order_week</th>\n",
       "      <th>first_order_week</th>\n",
       "      <th>week_number_after_first_week</th>\n",
       "    </tr>\n",
       "  </thead>\n",
       "  <tbody>\n",
       "    <tr>\n",
       "      <th>86</th>\n",
       "      <td>4107374</td>\n",
       "      <td>2018-07-25 17:16:39</td>\n",
       "      <td>73963</td>\n",
       "      <td>360</td>\n",
       "      <td>2018-07-25</td>\n",
       "      <td>30</td>\n",
       "      <td>27</td>\n",
       "      <td>3</td>\n",
       "    </tr>\n",
       "    <tr>\n",
       "      <th>124</th>\n",
       "      <td>4125549</td>\n",
       "      <td>2018-07-27 14:09:45</td>\n",
       "      <td>98611</td>\n",
       "      <td>640</td>\n",
       "      <td>2018-07-27</td>\n",
       "      <td>30</td>\n",
       "      <td>27</td>\n",
       "      <td>3</td>\n",
       "    </tr>\n",
       "    <tr>\n",
       "      <th>152</th>\n",
       "      <td>3825331</td>\n",
       "      <td>2018-06-18 9:16:59</td>\n",
       "      <td>113961</td>\n",
       "      <td>199</td>\n",
       "      <td>2018-06-18</td>\n",
       "      <td>25</td>\n",
       "      <td>22</td>\n",
       "      <td>3</td>\n",
       "    </tr>\n",
       "    <tr>\n",
       "      <th>153</th>\n",
       "      <td>3836112</td>\n",
       "      <td>2018-06-19 11:25:25</td>\n",
       "      <td>113961</td>\n",
       "      <td>552</td>\n",
       "      <td>2018-06-19</td>\n",
       "      <td>25</td>\n",
       "      <td>22</td>\n",
       "      <td>3</td>\n",
       "    </tr>\n",
       "    <tr>\n",
       "      <th>154</th>\n",
       "      <td>3857838</td>\n",
       "      <td>2018-06-21 14:51:40</td>\n",
       "      <td>113961</td>\n",
       "      <td>450</td>\n",
       "      <td>2018-06-21</td>\n",
       "      <td>25</td>\n",
       "      <td>22</td>\n",
       "      <td>3</td>\n",
       "    </tr>\n",
       "  </tbody>\n",
       "</table>\n",
       "</div>"
      ],
      "text/plain": [
       "     order_id              created  user_id  payment   order_day  order_week  \\\n",
       "86    4107374  2018-07-25 17:16:39    73963      360  2018-07-25          30   \n",
       "124   4125549  2018-07-27 14:09:45    98611      640  2018-07-27          30   \n",
       "152   3825331   2018-06-18 9:16:59   113961      199  2018-06-18          25   \n",
       "153   3836112  2018-06-19 11:25:25   113961      552  2018-06-19          25   \n",
       "154   3857838  2018-06-21 14:51:40   113961      450  2018-06-21          25   \n",
       "\n",
       "     first_order_week  week_number_after_first_week  \n",
       "86                 27                             3  \n",
       "124                27                             3  \n",
       "152                22                             3  \n",
       "153                22                             3  \n",
       "154                22                             3  "
      ]
     },
     "execution_count": 13,
     "metadata": {},
     "output_type": "execute_result"
    }
   ],
   "source": [
    "res_df.head()"
   ]
  },
  {
   "cell_type": "code",
   "execution_count": 14,
   "metadata": {},
   "outputs": [],
   "source": [
    "res_payment=pd.DataFrame(res_df.groupby('first_order_week').agg('payment').sum())"
   ]
  },
  {
   "cell_type": "code",
   "execution_count": 15,
   "metadata": {},
   "outputs": [],
   "source": [
    "res_users=pd.DataFrame(res_df.groupby('first_order_week').agg('user_id').count())"
   ]
  },
  {
   "cell_type": "code",
   "execution_count": 16,
   "metadata": {},
   "outputs": [],
   "source": [
    "result=res_users.merge(res_payment, left_on='first_order_week', right_on='first_order_week', how='outer')\n",
    "result=result.rename(columns={'user_id':'users','payment':'payment_sum'})"
   ]
  },
  {
   "cell_type": "code",
   "execution_count": 17,
   "metadata": {},
   "outputs": [],
   "source": [
    "result['payment_per_user']=round(result['payment_sum']/result['users'],2)"
   ]
  },
  {
   "cell_type": "code",
   "execution_count": 35,
   "metadata": {
    "scrolled": true
   },
   "outputs": [
    {
     "data": {
      "text/html": [
       "<div>\n",
       "<style scoped>\n",
       "    .dataframe tbody tr th:only-of-type {\n",
       "        vertical-align: middle;\n",
       "    }\n",
       "\n",
       "    .dataframe tbody tr th {\n",
       "        vertical-align: top;\n",
       "    }\n",
       "\n",
       "    .dataframe thead th {\n",
       "        text-align: right;\n",
       "    }\n",
       "</style>\n",
       "<table border=\"1\" class=\"dataframe\">\n",
       "  <thead>\n",
       "    <tr style=\"text-align: right;\">\n",
       "      <th></th>\n",
       "      <th>first_order_week</th>\n",
       "      <th>users</th>\n",
       "      <th>payment_sum</th>\n",
       "      <th>payment_per_user</th>\n",
       "    </tr>\n",
       "  </thead>\n",
       "  <tbody>\n",
       "    <tr>\n",
       "      <th>8</th>\n",
       "      <td>22</td>\n",
       "      <td>11</td>\n",
       "      <td>7550</td>\n",
       "      <td>686.36</td>\n",
       "    </tr>\n",
       "    <tr>\n",
       "      <th>4</th>\n",
       "      <td>9</td>\n",
       "      <td>15</td>\n",
       "      <td>6633</td>\n",
       "      <td>442.20</td>\n",
       "    </tr>\n",
       "    <tr>\n",
       "      <th>3</th>\n",
       "      <td>7</td>\n",
       "      <td>9</td>\n",
       "      <td>5845</td>\n",
       "      <td>649.44</td>\n",
       "    </tr>\n",
       "    <tr>\n",
       "      <th>1</th>\n",
       "      <td>3</td>\n",
       "      <td>9</td>\n",
       "      <td>5716</td>\n",
       "      <td>635.11</td>\n",
       "    </tr>\n",
       "    <tr>\n",
       "      <th>9</th>\n",
       "      <td>23</td>\n",
       "      <td>11</td>\n",
       "      <td>4566</td>\n",
       "      <td>415.09</td>\n",
       "    </tr>\n",
       "    <tr>\n",
       "      <th>2</th>\n",
       "      <td>4</td>\n",
       "      <td>8</td>\n",
       "      <td>4181</td>\n",
       "      <td>522.62</td>\n",
       "    </tr>\n",
       "    <tr>\n",
       "      <th>17</th>\n",
       "      <td>35</td>\n",
       "      <td>8</td>\n",
       "      <td>3864</td>\n",
       "      <td>483.00</td>\n",
       "    </tr>\n",
       "    <tr>\n",
       "      <th>11</th>\n",
       "      <td>27</td>\n",
       "      <td>6</td>\n",
       "      <td>3429</td>\n",
       "      <td>571.50</td>\n",
       "    </tr>\n",
       "    <tr>\n",
       "      <th>18</th>\n",
       "      <td>36</td>\n",
       "      <td>4</td>\n",
       "      <td>2512</td>\n",
       "      <td>628.00</td>\n",
       "    </tr>\n",
       "    <tr>\n",
       "      <th>7</th>\n",
       "      <td>21</td>\n",
       "      <td>5</td>\n",
       "      <td>2041</td>\n",
       "      <td>408.20</td>\n",
       "    </tr>\n",
       "    <tr>\n",
       "      <th>14</th>\n",
       "      <td>31</td>\n",
       "      <td>1</td>\n",
       "      <td>1964</td>\n",
       "      <td>1964.00</td>\n",
       "    </tr>\n",
       "    <tr>\n",
       "      <th>12</th>\n",
       "      <td>28</td>\n",
       "      <td>4</td>\n",
       "      <td>1934</td>\n",
       "      <td>483.50</td>\n",
       "    </tr>\n",
       "    <tr>\n",
       "      <th>16</th>\n",
       "      <td>34</td>\n",
       "      <td>1</td>\n",
       "      <td>1489</td>\n",
       "      <td>1489.00</td>\n",
       "    </tr>\n",
       "    <tr>\n",
       "      <th>6</th>\n",
       "      <td>20</td>\n",
       "      <td>1</td>\n",
       "      <td>1028</td>\n",
       "      <td>1028.00</td>\n",
       "    </tr>\n",
       "    <tr>\n",
       "      <th>5</th>\n",
       "      <td>18</td>\n",
       "      <td>2</td>\n",
       "      <td>781</td>\n",
       "      <td>390.50</td>\n",
       "    </tr>\n",
       "    <tr>\n",
       "      <th>10</th>\n",
       "      <td>25</td>\n",
       "      <td>2</td>\n",
       "      <td>449</td>\n",
       "      <td>224.50</td>\n",
       "    </tr>\n",
       "    <tr>\n",
       "      <th>13</th>\n",
       "      <td>29</td>\n",
       "      <td>1</td>\n",
       "      <td>445</td>\n",
       "      <td>445.00</td>\n",
       "    </tr>\n",
       "    <tr>\n",
       "      <th>15</th>\n",
       "      <td>33</td>\n",
       "      <td>1</td>\n",
       "      <td>437</td>\n",
       "      <td>437.00</td>\n",
       "    </tr>\n",
       "    <tr>\n",
       "      <th>0</th>\n",
       "      <td>2</td>\n",
       "      <td>1</td>\n",
       "      <td>340</td>\n",
       "      <td>340.00</td>\n",
       "    </tr>\n",
       "  </tbody>\n",
       "</table>\n",
       "</div>"
      ],
      "text/plain": [
       "    first_order_week  users  payment_sum  payment_per_user\n",
       "8                 22     11         7550            686.36\n",
       "4                  9     15         6633            442.20\n",
       "3                  7      9         5845            649.44\n",
       "1                  3      9         5716            635.11\n",
       "9                 23     11         4566            415.09\n",
       "2                  4      8         4181            522.62\n",
       "17                35      8         3864            483.00\n",
       "11                27      6         3429            571.50\n",
       "18                36      4         2512            628.00\n",
       "7                 21      5         2041            408.20\n",
       "14                31      1         1964           1964.00\n",
       "12                28      4         1934            483.50\n",
       "16                34      1         1489           1489.00\n",
       "6                 20      1         1028           1028.00\n",
       "5                 18      2          781            390.50\n",
       "10                25      2          449            224.50\n",
       "13                29      1          445            445.00\n",
       "15                33      1          437            437.00\n",
       "0                  2      1          340            340.00"
      ]
     },
     "execution_count": 35,
     "metadata": {},
     "output_type": "execute_result"
    }
   ],
   "source": [
    "result.reset_index().sort_values('payment_sum', ascending=False)"
   ]
  },
  {
   "cell_type": "markdown",
   "metadata": {},
   "source": [
    "# Answer: 22 week"
   ]
  },
  {
   "cell_type": "markdown",
   "metadata": {},
   "source": [
    "_______________________________________________________"
   ]
  },
  {
   "cell_type": "markdown",
   "metadata": {},
   "source": [
    "# Задание 2"
   ]
  },
  {
   "cell_type": "markdown",
   "metadata": {},
   "source": [
    "In which month, did we get the customers with highest client retention in their 3rd calendar month? Your answer should be a month number. Month count starts with 1."
   ]
  },
  {
   "cell_type": "code",
   "execution_count": 19,
   "metadata": {},
   "outputs": [],
   "source": [
    "data=pd.read_csv('test-data.csv')"
   ]
  },
  {
   "cell_type": "code",
   "execution_count": 20,
   "metadata": {},
   "outputs": [],
   "source": [
    "data['order_day']=pd.to_datetime(data['created'])"
   ]
  },
  {
   "cell_type": "code",
   "execution_count": 21,
   "metadata": {},
   "outputs": [
    {
     "data": {
      "text/html": [
       "<div>\n",
       "<style scoped>\n",
       "    .dataframe tbody tr th:only-of-type {\n",
       "        vertical-align: middle;\n",
       "    }\n",
       "\n",
       "    .dataframe tbody tr th {\n",
       "        vertical-align: top;\n",
       "    }\n",
       "\n",
       "    .dataframe thead th {\n",
       "        text-align: right;\n",
       "    }\n",
       "</style>\n",
       "<table border=\"1\" class=\"dataframe\">\n",
       "  <thead>\n",
       "    <tr style=\"text-align: right;\">\n",
       "      <th></th>\n",
       "      <th>order_id</th>\n",
       "      <th>created</th>\n",
       "      <th>user_id</th>\n",
       "      <th>payment</th>\n",
       "      <th>order_day</th>\n",
       "    </tr>\n",
       "  </thead>\n",
       "  <tbody>\n",
       "    <tr>\n",
       "      <th>0</th>\n",
       "      <td>3178039</td>\n",
       "      <td>2018-03-09 19:12:13</td>\n",
       "      <td>1066</td>\n",
       "      <td>1090</td>\n",
       "      <td>2018-03-09 19:12:13</td>\n",
       "    </tr>\n",
       "    <tr>\n",
       "      <th>1</th>\n",
       "      <td>2940729</td>\n",
       "      <td>2018-02-02 13:56:01</td>\n",
       "      <td>4821</td>\n",
       "      <td>349</td>\n",
       "      <td>2018-02-02 13:56:01</td>\n",
       "    </tr>\n",
       "    <tr>\n",
       "      <th>2</th>\n",
       "      <td>4260454</td>\n",
       "      <td>2018-08-14 13:32:25</td>\n",
       "      <td>4831</td>\n",
       "      <td>673</td>\n",
       "      <td>2018-08-14 13:32:25</td>\n",
       "    </tr>\n",
       "    <tr>\n",
       "      <th>3</th>\n",
       "      <td>3468644</td>\n",
       "      <td>2018-04-24 14:24:58</td>\n",
       "      <td>9563</td>\n",
       "      <td>893</td>\n",
       "      <td>2018-04-24 14:24:58</td>\n",
       "    </tr>\n",
       "    <tr>\n",
       "      <th>4</th>\n",
       "      <td>2842424</td>\n",
       "      <td>2018-01-15 15:44:33</td>\n",
       "      <td>12189</td>\n",
       "      <td>480</td>\n",
       "      <td>2018-01-15 15:44:33</td>\n",
       "    </tr>\n",
       "  </tbody>\n",
       "</table>\n",
       "</div>"
      ],
      "text/plain": [
       "   order_id              created  user_id  payment           order_day\n",
       "0   3178039  2018-03-09 19:12:13     1066     1090 2018-03-09 19:12:13\n",
       "1   2940729  2018-02-02 13:56:01     4821      349 2018-02-02 13:56:01\n",
       "2   4260454  2018-08-14 13:32:25     4831      673 2018-08-14 13:32:25\n",
       "3   3468644  2018-04-24 14:24:58     9563      893 2018-04-24 14:24:58\n",
       "4   2842424  2018-01-15 15:44:33    12189      480 2018-01-15 15:44:33"
      ]
     },
     "execution_count": 21,
     "metadata": {},
     "output_type": "execute_result"
    }
   ],
   "source": [
    "data.head()"
   ]
  },
  {
   "cell_type": "code",
   "execution_count": 22,
   "metadata": {},
   "outputs": [],
   "source": [
    "data['order_month']=data['order_day'].dt.month"
   ]
  },
  {
   "cell_type": "code",
   "execution_count": 23,
   "metadata": {},
   "outputs": [
    {
     "data": {
      "text/html": [
       "<div>\n",
       "<style scoped>\n",
       "    .dataframe tbody tr th:only-of-type {\n",
       "        vertical-align: middle;\n",
       "    }\n",
       "\n",
       "    .dataframe tbody tr th {\n",
       "        vertical-align: top;\n",
       "    }\n",
       "\n",
       "    .dataframe thead th {\n",
       "        text-align: right;\n",
       "    }\n",
       "</style>\n",
       "<table border=\"1\" class=\"dataframe\">\n",
       "  <thead>\n",
       "    <tr style=\"text-align: right;\">\n",
       "      <th></th>\n",
       "      <th>order_id</th>\n",
       "      <th>created</th>\n",
       "      <th>user_id</th>\n",
       "      <th>payment</th>\n",
       "      <th>order_day</th>\n",
       "      <th>order_month</th>\n",
       "    </tr>\n",
       "  </thead>\n",
       "  <tbody>\n",
       "    <tr>\n",
       "      <th>0</th>\n",
       "      <td>3178039</td>\n",
       "      <td>2018-03-09 19:12:13</td>\n",
       "      <td>1066</td>\n",
       "      <td>1090</td>\n",
       "      <td>2018-03-09 19:12:13</td>\n",
       "      <td>3</td>\n",
       "    </tr>\n",
       "    <tr>\n",
       "      <th>1</th>\n",
       "      <td>2940729</td>\n",
       "      <td>2018-02-02 13:56:01</td>\n",
       "      <td>4821</td>\n",
       "      <td>349</td>\n",
       "      <td>2018-02-02 13:56:01</td>\n",
       "      <td>2</td>\n",
       "    </tr>\n",
       "    <tr>\n",
       "      <th>2</th>\n",
       "      <td>4260454</td>\n",
       "      <td>2018-08-14 13:32:25</td>\n",
       "      <td>4831</td>\n",
       "      <td>673</td>\n",
       "      <td>2018-08-14 13:32:25</td>\n",
       "      <td>8</td>\n",
       "    </tr>\n",
       "    <tr>\n",
       "      <th>3</th>\n",
       "      <td>3468644</td>\n",
       "      <td>2018-04-24 14:24:58</td>\n",
       "      <td>9563</td>\n",
       "      <td>893</td>\n",
       "      <td>2018-04-24 14:24:58</td>\n",
       "      <td>4</td>\n",
       "    </tr>\n",
       "    <tr>\n",
       "      <th>4</th>\n",
       "      <td>2842424</td>\n",
       "      <td>2018-01-15 15:44:33</td>\n",
       "      <td>12189</td>\n",
       "      <td>480</td>\n",
       "      <td>2018-01-15 15:44:33</td>\n",
       "      <td>1</td>\n",
       "    </tr>\n",
       "  </tbody>\n",
       "</table>\n",
       "</div>"
      ],
      "text/plain": [
       "   order_id              created  user_id  payment           order_day  \\\n",
       "0   3178039  2018-03-09 19:12:13     1066     1090 2018-03-09 19:12:13   \n",
       "1   2940729  2018-02-02 13:56:01     4821      349 2018-02-02 13:56:01   \n",
       "2   4260454  2018-08-14 13:32:25     4831      673 2018-08-14 13:32:25   \n",
       "3   3468644  2018-04-24 14:24:58     9563      893 2018-04-24 14:24:58   \n",
       "4   2842424  2018-01-15 15:44:33    12189      480 2018-01-15 15:44:33   \n",
       "\n",
       "   order_month  \n",
       "0            3  \n",
       "1            2  \n",
       "2            8  \n",
       "3            4  \n",
       "4            1  "
      ]
     },
     "execution_count": 23,
     "metadata": {},
     "output_type": "execute_result"
    }
   ],
   "source": [
    "data.head()"
   ]
  },
  {
   "cell_type": "code",
   "execution_count": 24,
   "metadata": {},
   "outputs": [
    {
     "data": {
      "text/html": [
       "<div>\n",
       "<style scoped>\n",
       "    .dataframe tbody tr th:only-of-type {\n",
       "        vertical-align: middle;\n",
       "    }\n",
       "\n",
       "    .dataframe tbody tr th {\n",
       "        vertical-align: top;\n",
       "    }\n",
       "\n",
       "    .dataframe thead th {\n",
       "        text-align: right;\n",
       "    }\n",
       "</style>\n",
       "<table border=\"1\" class=\"dataframe\">\n",
       "  <thead>\n",
       "    <tr style=\"text-align: right;\">\n",
       "      <th></th>\n",
       "      <th>user_id</th>\n",
       "      <th>first_order_month</th>\n",
       "    </tr>\n",
       "  </thead>\n",
       "  <tbody>\n",
       "    <tr>\n",
       "      <th>0</th>\n",
       "      <td>1066</td>\n",
       "      <td>3</td>\n",
       "    </tr>\n",
       "    <tr>\n",
       "      <th>1</th>\n",
       "      <td>4821</td>\n",
       "      <td>2</td>\n",
       "    </tr>\n",
       "    <tr>\n",
       "      <th>2</th>\n",
       "      <td>4831</td>\n",
       "      <td>8</td>\n",
       "    </tr>\n",
       "    <tr>\n",
       "      <th>3</th>\n",
       "      <td>9563</td>\n",
       "      <td>4</td>\n",
       "    </tr>\n",
       "    <tr>\n",
       "      <th>4</th>\n",
       "      <td>12189</td>\n",
       "      <td>1</td>\n",
       "    </tr>\n",
       "  </tbody>\n",
       "</table>\n",
       "</div>"
      ],
      "text/plain": [
       "   user_id  first_order_month\n",
       "0     1066                  3\n",
       "1     4821                  2\n",
       "2     4831                  8\n",
       "3     9563                  4\n",
       "4    12189                  1"
      ]
     },
     "execution_count": 24,
     "metadata": {},
     "output_type": "execute_result"
    }
   ],
   "source": [
    "data_users=pd.DataFrame(data.groupby('user_id').agg('order_month').min()).rename(columns={'order_month':'first_order_month'}) \\\n",
    "                    .reset_index()\n",
    "data_users.head()"
   ]
  },
  {
   "cell_type": "code",
   "execution_count": 25,
   "metadata": {},
   "outputs": [],
   "source": [
    "data=data.merge(data_users, left_on='user_id', right_on='user_id', how='outer')"
   ]
  },
  {
   "cell_type": "code",
   "execution_count": 26,
   "metadata": {},
   "outputs": [],
   "source": [
    "data['month_number_after_first_month']=data['order_month']-data['first_order_month']"
   ]
  },
  {
   "cell_type": "code",
   "execution_count": 27,
   "metadata": {},
   "outputs": [],
   "source": [
    "users_month=pd.DataFrame(data.groupby('first_order_month').agg('user_id').count()) \\\n",
    "                             .rename(columns={'user_id':'1_month_users_count'}) \\\n",
    "                             .reset_index()"
   ]
  },
  {
   "cell_type": "code",
   "execution_count": 28,
   "metadata": {},
   "outputs": [
    {
     "data": {
      "text/html": [
       "<div>\n",
       "<style scoped>\n",
       "    .dataframe tbody tr th:only-of-type {\n",
       "        vertical-align: middle;\n",
       "    }\n",
       "\n",
       "    .dataframe tbody tr th {\n",
       "        vertical-align: top;\n",
       "    }\n",
       "\n",
       "    .dataframe thead th {\n",
       "        text-align: right;\n",
       "    }\n",
       "</style>\n",
       "<table border=\"1\" class=\"dataframe\">\n",
       "  <thead>\n",
       "    <tr style=\"text-align: right;\">\n",
       "      <th></th>\n",
       "      <th>first_order_month</th>\n",
       "      <th>1_month_users_count</th>\n",
       "    </tr>\n",
       "  </thead>\n",
       "  <tbody>\n",
       "    <tr>\n",
       "      <th>0</th>\n",
       "      <td>1</td>\n",
       "      <td>7694</td>\n",
       "    </tr>\n",
       "    <tr>\n",
       "      <th>1</th>\n",
       "      <td>2</td>\n",
       "      <td>9082</td>\n",
       "    </tr>\n",
       "    <tr>\n",
       "      <th>2</th>\n",
       "      <td>3</td>\n",
       "      <td>8620</td>\n",
       "    </tr>\n",
       "    <tr>\n",
       "      <th>3</th>\n",
       "      <td>4</td>\n",
       "      <td>7677</td>\n",
       "    </tr>\n",
       "    <tr>\n",
       "      <th>4</th>\n",
       "      <td>5</td>\n",
       "      <td>6844</td>\n",
       "    </tr>\n",
       "  </tbody>\n",
       "</table>\n",
       "</div>"
      ],
      "text/plain": [
       "   first_order_month  1_month_users_count\n",
       "0                  1                 7694\n",
       "1                  2                 9082\n",
       "2                  3                 8620\n",
       "3                  4                 7677\n",
       "4                  5                 6844"
      ]
     },
     "execution_count": 28,
     "metadata": {},
     "output_type": "execute_result"
    }
   ],
   "source": [
    "users_month.head()"
   ]
  },
  {
   "cell_type": "code",
   "execution_count": 29,
   "metadata": {},
   "outputs": [],
   "source": [
    "users_month_3=pd.DataFrame(data.query('month_number_after_first_month==3').groupby('first_order_month') \\\n",
    "                               .agg('user_id').count())  \\\n",
    "                               .rename(columns={'user_id':'3_month_users_count'}) \\\n",
    "                               .reset_index()"
   ]
  },
  {
   "cell_type": "code",
   "execution_count": 30,
   "metadata": {},
   "outputs": [],
   "source": [
    "users_month=users_month.merge(users_month_3, left_on='first_order_month', right_on='first_order_month', how='outer' )"
   ]
  },
  {
   "cell_type": "code",
   "execution_count": 31,
   "metadata": {},
   "outputs": [
    {
     "data": {
      "text/html": [
       "<div>\n",
       "<style scoped>\n",
       "    .dataframe tbody tr th:only-of-type {\n",
       "        vertical-align: middle;\n",
       "    }\n",
       "\n",
       "    .dataframe tbody tr th {\n",
       "        vertical-align: top;\n",
       "    }\n",
       "\n",
       "    .dataframe thead th {\n",
       "        text-align: right;\n",
       "    }\n",
       "</style>\n",
       "<table border=\"1\" class=\"dataframe\">\n",
       "  <thead>\n",
       "    <tr style=\"text-align: right;\">\n",
       "      <th></th>\n",
       "      <th>first_order_month</th>\n",
       "      <th>1_month_users_count</th>\n",
       "      <th>3_month_users_count</th>\n",
       "    </tr>\n",
       "  </thead>\n",
       "  <tbody>\n",
       "    <tr>\n",
       "      <th>0</th>\n",
       "      <td>1</td>\n",
       "      <td>7694</td>\n",
       "      <td>834.0</td>\n",
       "    </tr>\n",
       "    <tr>\n",
       "      <th>1</th>\n",
       "      <td>2</td>\n",
       "      <td>9082</td>\n",
       "      <td>1028.0</td>\n",
       "    </tr>\n",
       "    <tr>\n",
       "      <th>2</th>\n",
       "      <td>3</td>\n",
       "      <td>8620</td>\n",
       "      <td>930.0</td>\n",
       "    </tr>\n",
       "    <tr>\n",
       "      <th>3</th>\n",
       "      <td>4</td>\n",
       "      <td>7677</td>\n",
       "      <td>1065.0</td>\n",
       "    </tr>\n",
       "    <tr>\n",
       "      <th>4</th>\n",
       "      <td>5</td>\n",
       "      <td>6844</td>\n",
       "      <td>994.0</td>\n",
       "    </tr>\n",
       "    <tr>\n",
       "      <th>5</th>\n",
       "      <td>6</td>\n",
       "      <td>5928</td>\n",
       "      <td>1034.0</td>\n",
       "    </tr>\n",
       "    <tr>\n",
       "      <th>6</th>\n",
       "      <td>7</td>\n",
       "      <td>5164</td>\n",
       "      <td>526.0</td>\n",
       "    </tr>\n",
       "    <tr>\n",
       "      <th>7</th>\n",
       "      <td>8</td>\n",
       "      <td>4764</td>\n",
       "      <td>0.0</td>\n",
       "    </tr>\n",
       "    <tr>\n",
       "      <th>8</th>\n",
       "      <td>9</td>\n",
       "      <td>3124</td>\n",
       "      <td>0.0</td>\n",
       "    </tr>\n",
       "    <tr>\n",
       "      <th>9</th>\n",
       "      <td>10</td>\n",
       "      <td>1101</td>\n",
       "      <td>0.0</td>\n",
       "    </tr>\n",
       "  </tbody>\n",
       "</table>\n",
       "</div>"
      ],
      "text/plain": [
       "   first_order_month  1_month_users_count  3_month_users_count\n",
       "0                  1                 7694                834.0\n",
       "1                  2                 9082               1028.0\n",
       "2                  3                 8620                930.0\n",
       "3                  4                 7677               1065.0\n",
       "4                  5                 6844                994.0\n",
       "5                  6                 5928               1034.0\n",
       "6                  7                 5164                526.0\n",
       "7                  8                 4764                  0.0\n",
       "8                  9                 3124                  0.0\n",
       "9                 10                 1101                  0.0"
      ]
     },
     "execution_count": 31,
     "metadata": {},
     "output_type": "execute_result"
    }
   ],
   "source": [
    "users_month.fillna(0)"
   ]
  },
  {
   "cell_type": "code",
   "execution_count": 32,
   "metadata": {},
   "outputs": [],
   "source": [
    "users_month['Retention']=round(users_month['3_month_users_count']/users_month['1_month_users_count'],2)"
   ]
  },
  {
   "cell_type": "code",
   "execution_count": 36,
   "metadata": {},
   "outputs": [
    {
     "data": {
      "text/html": [
       "<div>\n",
       "<style scoped>\n",
       "    .dataframe tbody tr th:only-of-type {\n",
       "        vertical-align: middle;\n",
       "    }\n",
       "\n",
       "    .dataframe tbody tr th {\n",
       "        vertical-align: top;\n",
       "    }\n",
       "\n",
       "    .dataframe thead th {\n",
       "        text-align: right;\n",
       "    }\n",
       "</style>\n",
       "<table border=\"1\" class=\"dataframe\">\n",
       "  <thead>\n",
       "    <tr style=\"text-align: right;\">\n",
       "      <th></th>\n",
       "      <th>first_order_month</th>\n",
       "      <th>1_month_users_count</th>\n",
       "      <th>3_month_users_count</th>\n",
       "      <th>Retention</th>\n",
       "    </tr>\n",
       "  </thead>\n",
       "  <tbody>\n",
       "    <tr>\n",
       "      <th>5</th>\n",
       "      <td>6</td>\n",
       "      <td>5928</td>\n",
       "      <td>1034.0</td>\n",
       "      <td>0.17</td>\n",
       "    </tr>\n",
       "    <tr>\n",
       "      <th>4</th>\n",
       "      <td>5</td>\n",
       "      <td>6844</td>\n",
       "      <td>994.0</td>\n",
       "      <td>0.15</td>\n",
       "    </tr>\n",
       "    <tr>\n",
       "      <th>3</th>\n",
       "      <td>4</td>\n",
       "      <td>7677</td>\n",
       "      <td>1065.0</td>\n",
       "      <td>0.14</td>\n",
       "    </tr>\n",
       "    <tr>\n",
       "      <th>0</th>\n",
       "      <td>1</td>\n",
       "      <td>7694</td>\n",
       "      <td>834.0</td>\n",
       "      <td>0.11</td>\n",
       "    </tr>\n",
       "    <tr>\n",
       "      <th>1</th>\n",
       "      <td>2</td>\n",
       "      <td>9082</td>\n",
       "      <td>1028.0</td>\n",
       "      <td>0.11</td>\n",
       "    </tr>\n",
       "    <tr>\n",
       "      <th>2</th>\n",
       "      <td>3</td>\n",
       "      <td>8620</td>\n",
       "      <td>930.0</td>\n",
       "      <td>0.11</td>\n",
       "    </tr>\n",
       "    <tr>\n",
       "      <th>6</th>\n",
       "      <td>7</td>\n",
       "      <td>5164</td>\n",
       "      <td>526.0</td>\n",
       "      <td>0.10</td>\n",
       "    </tr>\n",
       "    <tr>\n",
       "      <th>7</th>\n",
       "      <td>8</td>\n",
       "      <td>4764</td>\n",
       "      <td>0.0</td>\n",
       "      <td>0.00</td>\n",
       "    </tr>\n",
       "    <tr>\n",
       "      <th>8</th>\n",
       "      <td>9</td>\n",
       "      <td>3124</td>\n",
       "      <td>0.0</td>\n",
       "      <td>0.00</td>\n",
       "    </tr>\n",
       "    <tr>\n",
       "      <th>9</th>\n",
       "      <td>10</td>\n",
       "      <td>1101</td>\n",
       "      <td>0.0</td>\n",
       "      <td>0.00</td>\n",
       "    </tr>\n",
       "  </tbody>\n",
       "</table>\n",
       "</div>"
      ],
      "text/plain": [
       "   first_order_month  1_month_users_count  3_month_users_count  Retention\n",
       "5                  6                 5928               1034.0       0.17\n",
       "4                  5                 6844                994.0       0.15\n",
       "3                  4                 7677               1065.0       0.14\n",
       "0                  1                 7694                834.0       0.11\n",
       "1                  2                 9082               1028.0       0.11\n",
       "2                  3                 8620                930.0       0.11\n",
       "6                  7                 5164                526.0       0.10\n",
       "7                  8                 4764                  0.0       0.00\n",
       "8                  9                 3124                  0.0       0.00\n",
       "9                 10                 1101                  0.0       0.00"
      ]
     },
     "execution_count": 36,
     "metadata": {},
     "output_type": "execute_result"
    }
   ],
   "source": [
    "users_month.fillna(0).sort_values('Retention', ascending=False)"
   ]
  },
  {
   "cell_type": "markdown",
   "metadata": {},
   "source": [
    "# Answer: 6 month"
   ]
  },
  {
   "cell_type": "code",
   "execution_count": null,
   "metadata": {},
   "outputs": [],
   "source": []
  }
 ],
 "metadata": {
  "kernelspec": {
   "display_name": "Python 3",
   "language": "python",
   "name": "python3"
  },
  "language_info": {
   "codemirror_mode": {
    "name": "ipython",
    "version": 3
   },
   "file_extension": ".py",
   "mimetype": "text/x-python",
   "name": "python",
   "nbconvert_exporter": "python",
   "pygments_lexer": "ipython3",
   "version": "3.7.1"
  }
 },
 "nbformat": 4,
 "nbformat_minor": 4
}
